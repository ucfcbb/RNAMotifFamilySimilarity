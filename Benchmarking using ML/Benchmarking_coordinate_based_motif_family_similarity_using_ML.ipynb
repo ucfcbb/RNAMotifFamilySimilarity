{
 "cells": [
  {
   "cell_type": "code",
   "execution_count": 1,
   "metadata": {},
   "outputs": [],
   "source": [
    "import numpy as np\n",
    "import pandas as pd\n",
    "import seaborn as sns\n",
    "import statistics\n",
    "from sklearn.preprocessing import StandardScaler\n",
    "import matplotlib.pyplot as plt\n",
    "plt.rcParams.update({'figure.max_open_warning': 0})\n",
    "from scipy.stats import norm, skew\n",
    "\n",
    "from sklearn.linear_model import LogisticRegression\n",
    "from sklearn.tree import DecisionTreeClassifier\n",
    "from sklearn.ensemble import RandomForestClassifier\n",
    "import itertools\n",
    "\n",
    "from sklearn.metrics import confusion_matrix\n",
    "from sklearn.metrics import roc_auc_score\n",
    "\n",
    "from sklearn.model_selection import cross_val_score, KFold, RepeatedKFold, train_test_split, GridSearchCV, cross_validate\n",
    "from sklearn.naive_bayes import GaussianNB\n",
    "from sklearn.metrics import accuracy_score\n",
    "from sklearn.metrics import classification_report, make_scorer, accuracy_score, precision_score, recall_score, f1_score\n",
    "from sklearn.model_selection import RepeatedStratifiedKFold\n",
    "from sklearn.preprocessing import PowerTransformer\n",
    "from sklearn.metrics import recall_score\n",
    "from sklearn.metrics import make_scorer\n",
    "pd.options.mode.chained_assignment = None\n",
    "\n",
    "COUNT = 100\n",
    "TEST_PERCEN = 0.20\n",
    "RANDOM_STATE = 0\n",
    "REPEATS = 5"
   ]
  },
  {
   "cell_type": "code",
   "execution_count": 2,
   "metadata": {},
   "outputs": [
    {
     "data": {
      "application/javascript": [
       "IPython.OutputArea.prototype._should_scroll = function(lines) {\n",
       "    return false;\n",
       "}\n"
      ],
      "text/plain": [
       "<IPython.core.display.Javascript object>"
      ]
     },
     "metadata": {},
     "output_type": "display_data"
    }
   ],
   "source": [
    "%%javascript\n",
    "IPython.OutputArea.prototype._should_scroll = function(lines) {\n",
    "    return false;\n",
    "}"
   ]
  },
  {
   "cell_type": "code",
   "execution_count": 3,
   "metadata": {},
   "outputs": [],
   "source": [
    "### Reading CSV File\n",
    "def load_data():\n",
    "    Data = pd.read_csv('Feature_sets/Features_RNAalign.csv')\n",
    "    pd.set_option('display.max_columns', None)\n",
    "    return Data"
   ]
  },
  {
   "cell_type": "code",
   "execution_count": 4,
   "metadata": {},
   "outputs": [],
   "source": [
    "def labeling(Data):\n",
    "    Data.columns = Data.columns.str.replace(' ', '')\n",
    "    Data['motif_family'] = Data['motif_family'].str.replace(' ', '')   \n",
    "    family = {'Tandem-shear': 1, 'E-loop': 2, 'Sarcin-ricin': 3, 'Kink-turn': 4, 'Hook-turn': 5, 'C-loop': 6, 'Rope-sling': 7, 'Tetraloop-receptor': 8, 'reverse-Kink-turn': 9, 'L1-complex': 10, 'T-loop': 11}    \n",
    "    Data.motif_family = [family[item] for item in Data.motif_family]\n",
    "    Data = Data.drop(['motif_str'], axis = 1)\n",
    "    return Data"
   ]
  },
  {
   "cell_type": "code",
   "execution_count": 5,
   "metadata": {},
   "outputs": [],
   "source": [
    "def check_class_bias(Data):\n",
    "    print('------------- Distribution of Class in the Label Column -------------')\n",
    "    \n",
    "    mapp = {1: 'TS', 2: 'EL', 3: 'SR', 4: 'KT', 5: 'HT', 6: 'CL', 7: 'RS', 8: 'TR', 9: 'rKT', 10: 'L1C', 11: 'TL'}\n",
    "    Data['Family'] = Data[\"motif_family\"].copy()\n",
    "    Data.Family = [mapp[item] for item in Data.Family]\n",
    "    item_counts = Data[\"Family\"].value_counts()\n",
    "    print(item_counts)\n",
    "    print ('----------------------------')\n",
    "    sns.set(font_scale=1.5)\n",
    "    f, ax = plt.subplots(figsize=(12, 9))\n",
    "    ax = sns.countplot(x=\"Family\", data=Data, label=\"Label Count\")\n",
    "    sns.despine(bottom=True)\n",
    "    Data = Data.drop('Family', axis = 1)\n",
    "    return Data"
   ]
  },
  {
   "cell_type": "code",
   "execution_count": 6,
   "metadata": {},
   "outputs": [
    {
     "name": "stdout",
     "output_type": "stream",
     "text": [
      "------------- Distribution of Class in the Label Column -------------\n",
      "SR     73\n",
      "KT     66\n",
      "EL     48\n",
      "TS     44\n",
      "CL     43\n",
      "HT     33\n",
      "TR     18\n",
      "RS     11\n",
      "rKT     7\n",
      "L1C     5\n",
      "TL      1\n",
      "Name: Family, dtype: int64\n",
      "----------------------------\n"
     ]
    },
    {
     "data": {
      "image/png": "[encoded data removed]",
      "text/plain": [
       "<Figure size 864x648 with 1 Axes>"
      ]
     },
     "metadata": {},
     "output_type": "display_data"
    }
   ],
   "source": [
    "Data = load_data()\n",
    "Data = labeling(Data)\n",
    "# Separating Features and Label Column\n",
    "Data = check_class_bias(Data)"
   ]
  },
  {
   "cell_type": "markdown",
   "metadata": {},
   "source": [
    "## Selected motif families based on coordinate-based similarity\n",
    "<p> Families with high similarity: Tandem-shear (TS), E-loop (EL), Hook-turn (HT), C-loop (CL) <br>\n",
    "Families with low similarity: Sarcin-ricin(SR) </p>"
   ]
  },
  {
   "cell_type": "code",
   "execution_count": 7,
   "metadata": {},
   "outputs": [],
   "source": [
    "def Hyper_Tuning(X, Y, x_train, x_test, y_train, y_test, SPLIT):\n",
    "    ####################################################################\n",
    "    cv_method = RepeatedStratifiedKFold(n_splits=SPLIT, \n",
    "                                        n_repeats=REPEATS, \n",
    "                                        random_state=RANDOM_STATE)\n",
    "\n",
    "    params_NB = {'var_smoothing': np.logspace(0,-9, num=100)}\n",
    "\n",
    "    gs_NB = GridSearchCV(estimator=GaussianNB(), \n",
    "                         param_grid=params_NB, \n",
    "                         cv=cv_method,\n",
    "                         verbose=1, \n",
    "                         scoring='accuracy')\n",
    "        \n",
    "    #########################################\n",
    "    Data_transformed_X = PowerTransformer().fit_transform(X)\n",
    "\n",
    "    ######################## Score #################\n",
    "    scorer = {\n",
    "    'accuracy': make_scorer(accuracy_score),\n",
    "    'sensitivity': make_scorer(recall_score),\n",
    "    'specificity': make_scorer(recall_score,pos_label=0)\n",
    "    }\n",
    "    scores = cross_validate(gs_NB, X, Y, scoring=scorer, cv=cv_method, n_jobs=-1)\n",
    "    print('Accuracy: %.3f, Sensitivity: %.3f, Specificity: %.3f' % (np.mean(scores['test_accuracy']), np.mean(scores['test_sensitivity']), np.mean(scores['test_specificity'])))  "
   ]
  },
  {
   "cell_type": "markdown",
   "metadata": {},
   "source": [
    "## GNB Binary Classifier for EL\n",
    "<p> Class 1: EL <br>\n",
    "Class 0: TS, HT, CL, SR </p>"
   ]
  },
  {
   "cell_type": "code",
   "execution_count": 8,
   "metadata": {},
   "outputs": [],
   "source": [
    "def Data_Preprocess_EL(Data):\n",
    "    \n",
    "    family = {'Tandem-shear': 1, 'E-loop': 2, 'Sarcin-ricin': 3, 'Kink-turn': 4, 'Hook-turn': 5, 'C-loop': 6} \n",
    "    \n",
    "    Data = Data[Data[\"motif_family\"] != 11]\n",
    "    Data = Data[Data[\"motif_family\"] != 10]\n",
    "    Data = Data[Data[\"motif_family\"] != 9]\n",
    "    Data = Data[Data[\"motif_family\"] != 8]\n",
    "    Data = Data[Data[\"motif_family\"] != 7]\n",
    "    Data_Filtered = Data[Data[\"motif_family\"] != 4]\n",
    " \n",
    "    ##### E-loop #####\n",
    "    EL_map = {2:1, 1:0, 3:0, 5:0, 6:0}\n",
    "    Data_Filtered.motif_family = [EL_map[item] for item in Data_Filtered.motif_family]    \n",
    "    \n",
    "    Balance_Data = Data_Filtered.groupby('motif_family')\n",
    "    Data_Filtered = pd.DataFrame(Balance_Data.apply(lambda x: x.sample(Balance_Data.size().min()).reset_index(drop=True)))\n",
    "    \n",
    "    X = Data_Filtered.drop('motif_family', axis = 1)\n",
    "    Y = Data_Filtered['motif_family']\n",
    "    x_train, x_test, y_train, y_test = train_test_split(X, Y, test_size = TEST_PERCEN, random_state = 0)\n",
    "    return X, Y, x_train, x_test, y_train, y_test"
   ]
  },
  {
   "cell_type": "code",
   "execution_count": 46,
   "metadata": {},
   "outputs": [
    {
     "name": "stdout",
     "output_type": "stream",
     "text": [
      "EL performance evaluation:\n",
      "Accuracy: 0.771, Sensitivity: 0.879, Specificity: 0.662\n"
     ]
    }
   ],
   "source": [
    "Data = load_data()\n",
    "Data = labeling(Data)\n",
    "X, Y, x_train, x_test, y_train, y_test = Data_Preprocess_EL(Data)\n",
    "print(\"EL performance evaluation:\")\n",
    "Hyper_Tuning(X, Y, x_train, x_test, y_train, y_test, 3)"
   ]
  },
  {
   "cell_type": "markdown",
   "metadata": {},
   "source": [
    "## GNB Binary Classifier for TS\n",
    "<p> Class 1: TS <br>\n",
    "Class 0: EL, HT, CL, SR </p>"
   ]
  },
  {
   "cell_type": "code",
   "execution_count": 10,
   "metadata": {},
   "outputs": [],
   "source": [
    "def Data_Preprocess_TS(Data):\n",
    "    \n",
    "    family = {'Tandem-shear': 1, 'E-loop': 2, 'Sarcin-ricin': 3, 'Kink-turn': 4, 'Hook-turn': 5, 'C-loop': 6} \n",
    "    \n",
    "    Data = Data[Data[\"motif_family\"] != 11]\n",
    "    Data = Data[Data[\"motif_family\"] != 10]\n",
    "    Data = Data[Data[\"motif_family\"] != 9]\n",
    "    Data = Data[Data[\"motif_family\"] != 8]\n",
    "    Data = Data[Data[\"motif_family\"] != 7]\n",
    "    Data_Filtered = Data[Data[\"motif_family\"] != 4]\n",
    "\n",
    " \n",
    "    ##### Tandem-shear #####\n",
    "    TS_map = {1:1, 2:0, 3:0, 5:0, 6:0}\n",
    "    Data_Filtered.motif_family = [TS_map[item] for item in Data_Filtered.motif_family]    \n",
    "    \n",
    "    Balance_Data = Data_Filtered.groupby('motif_family')\n",
    "    Data_Filtered = pd.DataFrame(Balance_Data.apply(lambda x: x.sample(Balance_Data.size().min()).reset_index(drop=True)))\n",
    "   \n",
    "    X = Data_Filtered.drop('motif_family', axis = 1)\n",
    "    Y = Data_Filtered['motif_family']\n",
    "    x_train, x_test, y_train, y_test = train_test_split(X, Y, test_size = TEST_PERCEN, random_state = 0)\n",
    "    return X, Y, x_train, x_test, y_train, y_test"
   ]
  },
  {
   "cell_type": "code",
   "execution_count": 33,
   "metadata": {},
   "outputs": [
    {
     "name": "stdout",
     "output_type": "stream",
     "text": [
      "TS performance evaluation:\n",
      "Accuracy: 0.837, Sensitivity: 0.887, Specificity: 0.788\n"
     ]
    }
   ],
   "source": [
    "Data = load_data()\n",
    "Data = labeling(Data)\n",
    "X, Y, x_train, x_test, y_train, y_test = Data_Preprocess_TS(Data)\n",
    "print(\"TS performance evaluation:\")\n",
    "Hyper_Tuning(X, Y, x_train, x_test, y_train, y_test, 3)"
   ]
  },
  {
   "cell_type": "markdown",
   "metadata": {},
   "source": [
    "## GNB Binary Classifier for HT\n",
    "<p> Class 1: HT <br>\n",
    "Class 0: EL, TS, CL, SR </p>"
   ]
  },
  {
   "cell_type": "code",
   "execution_count": 12,
   "metadata": {},
   "outputs": [],
   "source": [
    "def Data_Preprocess_HT(Data):\n",
    "    \n",
    "    family = {'Tandem-shear': 1, 'E-loop': 2, 'Sarcin-ricin': 3, 'Kink-turn': 4, 'Hook-turn': 5, 'C-loop': 6} \n",
    "    \n",
    "    Data = Data[Data[\"motif_family\"] != 11]\n",
    "    Data = Data[Data[\"motif_family\"] != 10]\n",
    "    Data = Data[Data[\"motif_family\"] != 9]\n",
    "    Data = Data[Data[\"motif_family\"] != 8]\n",
    "    Data = Data[Data[\"motif_family\"] != 7]\n",
    "    Data_Filtered = Data[Data[\"motif_family\"] != 4]\n",
    " \n",
    "    ##### Hook-turn #####\n",
    "    HT_map = {5:1, 1:0, 2:0, 3:0, 6:0}\n",
    "    Data_Filtered.motif_family = [HT_map[item] for item in Data_Filtered.motif_family]    \n",
    "    \n",
    "    Balance_Data = Data_Filtered.groupby('motif_family')\n",
    "    Data_Filtered = pd.DataFrame(Balance_Data.apply(lambda x: x.sample(Balance_Data.size().min()).reset_index(drop=True)))\n",
    "    \n",
    "    X = Data_Filtered.drop('motif_family', axis = 1)\n",
    "    Y = Data_Filtered['motif_family']\n",
    "    x_train, x_test, y_train, y_test = train_test_split(X, Y, test_size = TEST_PERCEN, random_state = 0)\n",
    "    return X, Y, x_train, x_test, y_train, y_test"
   ]
  },
  {
   "cell_type": "code",
   "execution_count": 61,
   "metadata": {},
   "outputs": [
    {
     "name": "stdout",
     "output_type": "stream",
     "text": [
      "HT performance evaluation:\n",
      "Accuracy: 0.739, Sensitivity: 0.806, Specificity: 0.673\n"
     ]
    }
   ],
   "source": [
    "Data = load_data()\n",
    "Data = labeling(Data)\n",
    "X, Y, x_train, x_test, y_train, y_test = Data_Preprocess_HT(Data)\n",
    "print(\"HT performance evaluation:\")\n",
    "Hyper_Tuning(X, Y, x_train, x_test, y_train, y_test, 3)"
   ]
  },
  {
   "cell_type": "markdown",
   "metadata": {},
   "source": [
    "## GNB Binary Classifier for CL\n",
    "<p> Class 1: CL <br>\n",
    "Class 0: EL, TS, HT, SR </p>"
   ]
  },
  {
   "cell_type": "code",
   "execution_count": 14,
   "metadata": {},
   "outputs": [],
   "source": [
    "def Data_Preprocess_CL(Data):\n",
    "    \n",
    "    family = {'Tandem-shear': 1, 'E-loop': 2, 'Sarcin-ricin': 3, 'Kink-turn': 4, 'Hook-turn': 5, 'C-loop': 6} \n",
    "    \n",
    "    Data = Data[Data[\"motif_family\"] != 11]\n",
    "    Data = Data[Data[\"motif_family\"] != 10]\n",
    "    Data = Data[Data[\"motif_family\"] != 9]\n",
    "    Data = Data[Data[\"motif_family\"] != 8]\n",
    "    Data = Data[Data[\"motif_family\"] != 7]\n",
    "    Data_Filtered = Data[Data[\"motif_family\"] != 4]\n",
    "\n",
    "    ##### C-loop #####\n",
    "    CL_map = {6:1, 1:0, 2:0, 3:0, 5:0}\n",
    "    Data_Filtered.motif_family = [CL_map[item] for item in Data_Filtered.motif_family]    \n",
    "    \n",
    "    Balance_Data = Data_Filtered.groupby('motif_family')\n",
    "    Data_Filtered = pd.DataFrame(Balance_Data.apply(lambda x: x.sample(Balance_Data.size().min()).reset_index(drop=True)))\n",
    "    \n",
    "    X = Data_Filtered.drop('motif_family', axis = 1)\n",
    "    Y = Data_Filtered['motif_family']\n",
    "    x_train, x_test, y_train, y_test = train_test_split(X, Y, test_size = TEST_PERCEN, random_state = 0)\n",
    "    return X, Y, x_train, x_test, y_train, y_test"
   ]
  },
  {
   "cell_type": "code",
   "execution_count": 68,
   "metadata": {},
   "outputs": [
    {
     "name": "stdout",
     "output_type": "stream",
     "text": [
      "CL performance evaluation:\n",
      "Accuracy: 0.819, Sensitivity: 0.818, Specificity: 0.818\n"
     ]
    }
   ],
   "source": [
    "Data = load_data()\n",
    "Data = labeling(Data)\n",
    "X, Y, x_train, x_test, y_train, y_test = Data_Preprocess_CL(Data)\n",
    "print(\"CL performance evaluation:\")\n",
    "Hyper_Tuning(X, Y, x_train, x_test, y_train, y_test, 3)"
   ]
  },
  {
   "cell_type": "markdown",
   "metadata": {},
   "source": [
    "## GNB Binary Classifier for SR\n",
    "<p> Class 1: SR <br>\n",
    "Class 0: EL, TS, HT, CL </p>"
   ]
  },
  {
   "cell_type": "code",
   "execution_count": 16,
   "metadata": {},
   "outputs": [],
   "source": [
    "def Data_Preprocess_SR(Data):\n",
    "    \n",
    "    family = {'Tandem-shear': 1, 'E-loop': 2, 'Sarcin-ricin': 3, 'Kink-turn': 4, 'Hook-turn': 5, 'C-loop': 6} \n",
    "    \n",
    "    Data = Data[Data[\"motif_family\"] != 11]\n",
    "    Data = Data[Data[\"motif_family\"] != 10]\n",
    "    Data = Data[Data[\"motif_family\"] != 9]\n",
    "    Data = Data[Data[\"motif_family\"] != 8]\n",
    "    Data = Data[Data[\"motif_family\"] != 7]\n",
    "    Data_Filtered = Data[Data[\"motif_family\"] != 4]\n",
    "\n",
    "    ##### Sarcin-ricin #####\n",
    "    SR_map = {3:1, 1:0, 2:0, 5:0, 6:0}\n",
    "    Data_Filtered.motif_family = [SR_map[item] for item in Data_Filtered.motif_family]    \n",
    "    \n",
    "    Balance_Data = Data_Filtered.groupby('motif_family')\n",
    "    Data_Filtered = pd.DataFrame(Balance_Data.apply(lambda x: x.sample(Balance_Data.size().min()).reset_index(drop=True)))\n",
    "    \n",
    "    X = Data_Filtered.drop('motif_family', axis = 1)\n",
    "    Y = Data_Filtered['motif_family']\n",
    "    x_train, x_test, y_train, y_test = train_test_split(X, Y, test_size = TEST_PERCEN, random_state = 0)\n",
    "    return X, Y, x_train, x_test, y_train, y_test"
   ]
  },
  {
   "cell_type": "code",
   "execution_count": 111,
   "metadata": {},
   "outputs": [
    {
     "name": "stdout",
     "output_type": "stream",
     "text": [
      "SR performance evaluation:\n",
      "Accuracy: 0.910, Sensitivity: 0.853, Specificity: 0.967\n"
     ]
    }
   ],
   "source": [
    "Data = load_data()\n",
    "Data = labeling(Data)\n",
    "X, Y, x_train, x_test, y_train, y_test = Data_Preprocess_SR(Data)\n",
    "print(\"SR performance evaluation:\")\n",
    "Hyper_Tuning(X, Y, x_train, x_test, y_train, y_test, 3)"
   ]
  },
  {
   "cell_type": "markdown",
   "metadata": {},
   "source": [
    "## GNB Multi-class classifier"
   ]
  },
  {
   "cell_type": "code",
   "execution_count": 18,
   "metadata": {},
   "outputs": [],
   "source": [
    "### Drop class 0\n",
    "def Data_Preprocess_TS_EL_HT_CL_SR(Data):\n",
    "    \n",
    "    family = {'Tandem-shear': 1, 'E-loop': 2, 'Sarcin-ricin': 3, 'Kink-turn': 4, 'Hook-turn': 5, 'C-loop': 6} \n",
    "    \n",
    "    Data = Data[Data[\"motif_family\"] != 11]\n",
    "    Data = Data[Data[\"motif_family\"] != 10]\n",
    "    Data = Data[Data[\"motif_family\"] != 9]\n",
    "    Data = Data[Data[\"motif_family\"] != 8]\n",
    "    Data = Data[Data[\"motif_family\"] != 7]\n",
    "    Data_Filtered = Data[Data[\"motif_family\"] != 4]\n",
    "\n",
    "    Balance_Data = Data_Filtered.groupby('motif_family')\n",
    "    Data_Filtered = pd.DataFrame(Balance_Data.apply(lambda x: x.sample(Balance_Data.size().min()).reset_index(drop=True)))\n",
    "    \n",
    "    X = Data_Filtered.drop('motif_family', axis = 1)\n",
    "    Y = Data_Filtered['motif_family']\n",
    "    x_train, x_test, y_train, y_test = train_test_split(X, Y, test_size = TEST_PERCEN, random_state = 0)\n",
    "    return X, Y, x_train, x_test, y_train, y_test"
   ]
  },
  {
   "cell_type": "code",
   "execution_count": 19,
   "metadata": {},
   "outputs": [],
   "source": [
    "def Hyper_Tuning_Multiclass(X, Y, x_train, x_test, y_train, y_test):\n",
    "    ####################################################################\n",
    "    from sklearn.model_selection import RepeatedStratifiedKFold\n",
    "    from sklearn.preprocessing import PowerTransformer\n",
    "    from sklearn.metrics import precision_recall_fscore_support as score\n",
    "    \n",
    "    cv_method = RepeatedStratifiedKFold(n_splits=3, \n",
    "                                        n_repeats=5, \n",
    "                                        random_state=991)\n",
    "  \n",
    "    params_NB = {'var_smoothing': np.logspace(0,-9, num=100)}\n",
    "\n",
    "    gs_NB = GridSearchCV(estimator=GaussianNB(), \n",
    "                         param_grid=params_NB, \n",
    "                         cv=cv_method,\n",
    "                         verbose=1, \n",
    "                         scoring='accuracy')\n",
    "    \n",
    "\n",
    "    #########################################\n",
    "    Data_transformed_X = PowerTransformer().fit_transform(X)\n",
    "\n",
    "    ######################## Score #################\n",
    "    scorer = {\n",
    "    'accuracy': make_scorer(accuracy_score),\n",
    "    'sensitivity': make_scorer(recall_score, average='weighted'),\n",
    "    'specificity': make_scorer(recall_score, pos_label=0, average='weighted')\n",
    "    }\n",
    "\n",
    "    scores = cross_validate(gs_NB, X, Y, scoring=scorer, cv=cv_method, n_jobs=-1)\n",
    "    print('Accuracy: %.3f' % (np.mean(scores['test_accuracy'])))  \n",
    "    "
   ]
  },
  {
   "cell_type": "code",
   "execution_count": 74,
   "metadata": {},
   "outputs": [
    {
     "name": "stdout",
     "output_type": "stream",
     "text": [
      "Accuracy: 0.722\n"
     ]
    }
   ],
   "source": [
    "X, Y, x_train, x_test, y_train, y_test = Data_Preprocess_TS_EL_HT_CL_SR(Data)\n",
    "Hyper_Tuning_Multiclass(X, Y, x_train, x_test, y_train, y_test)"
   ]
  }
 ],
 "metadata": {
  "kernelspec": {
   "display_name": "Python 3",
   "language": "python",
   "name": "python3"
  },
  "language_info": {
   "codemirror_mode": {
    "name": "ipython",
    "version": 3
   },
   "file_extension": ".py",
   "mimetype": "text/x-python",
   "name": "python",
   "nbconvert_exporter": "python",
   "pygments_lexer": "ipython3",
   "version": "3.6.9"
  }
 },
 "nbformat": 4,
 "nbformat_minor": 4
}
